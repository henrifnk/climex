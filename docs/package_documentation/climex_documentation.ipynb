{
 "cells": [
  {
   "cell_type": "markdown",
   "id": "flying-python",
   "metadata": {},
   "source": [
    "# Climex package"
   ]
  },
  {
   "cell_type": "markdown",
   "id": "fatty-consideration",
   "metadata": {},
   "source": [
    "The climex package was set up with the aim to provide our project partners with clear and easy-to-use functions for reproducing and extending the most successfull models that we have created within the Innolab project. The available models in the package are:\n",
    "- ResNet (function: `train_resnet`)\n",
    "- CBAMResNet (ResNet with attention; function: `train_cbam_resnet`)\n",
    "- ConvLSTM (function: `train_conv_lstm`)\n",
    "- ViT (function: `train_vit`)\n",
    "\n",
    "\n",
    "Once a train function for a specific model is executed, the raw data are automatically passed through the entire data and model pipeline without requiring any further manual effort. \n",
    "\n",
    "It is further possible to customize the data pipeline through several arguments such as the number of years that should be included in the validation and test sets. More details on the arguments can be found in the documentation of the specific function."
   ]
  },
  {
   "cell_type": "markdown",
   "id": "smart-florist",
   "metadata": {},
   "source": [
    "![title](res/structure.png)"
   ]
  },
  {
   "cell_type": "markdown",
   "id": "limiting-stupid",
   "metadata": {},
   "source": [
    "## How to use the Climex package"
   ]
  },
  {
   "cell_type": "markdown",
   "id": "upset-repository",
   "metadata": {},
   "source": [
    "### How to install the package?"
   ]
  },
  {
   "cell_type": "markdown",
   "id": "pursuant-alignment",
   "metadata": {},
   "source": [
    "As long as it is a private repository, one needs to create a github `token` to install the climex package. This can be done quickly as described in the following link:\n",
    "\n",
    "https://docs.github.com/en/github/authenticating-to-github/creating-a-personal-access-token\n"
   ]
  },
  {
   "cell_type": "markdown",
   "id": "accompanied-spell",
   "metadata": {},
   "source": [
    "Once the `token` is created, the package can be pip-installed with the following command:\n",
    "\n",
    "`pip install git+https://${token}@github.com/ZYao720/Climex.git`\n"
   ]
  },
  {
   "cell_type": "markdown",
   "id": "based-singing",
   "metadata": {},
   "source": [
    "### How to train a model?"
   ]
  },
  {
   "cell_type": "markdown",
   "id": "champion-patient",
   "metadata": {},
   "source": [
    "In this example, we would like to give a showcase on how to train a ResNet model based on a random data split (years are randomly assigned to train, validaton and test sets with no overlap) with 8 years in the validation and 10 years in the test set. We further want to use the (automatically) weighted loss function."
   ]
  },
  {
   "cell_type": "markdown",
   "id": "valuable-found",
   "metadata": {},
   "source": [
    "First we have to import the climex package."
   ]
  },
  {
   "cell_type": "code",
   "execution_count": 5,
   "id": "mathematical-incentive",
   "metadata": {},
   "outputs": [],
   "source": [
    "from climex.models import train_resnet"
   ]
  },
  {
   "cell_type": "markdown",
   "id": "original-johnson",
   "metadata": {},
   "source": [
    "We then have to specify the path of the raw data and the directory in which the trained model and the log file should be saved."
   ]
  },
  {
   "cell_type": "code",
   "execution_count": 6,
   "id": "pointed-conclusion",
   "metadata": {},
   "outputs": [],
   "source": [
    "path_to_raw_data = \"datafolder/data.nc\"\n",
    "dir_result = \"results/\""
   ]
  },
  {
   "cell_type": "markdown",
   "id": "posted-horror",
   "metadata": {},
   "source": [
    "Then we can call the `train_resnet` function with the desired arguments and the raw data are automatically processed in the pipeline as described above and the model training is started.\n"
   ]
  },
  {
   "cell_type": "code",
   "execution_count": null,
   "id": "retired-labor",
   "metadata": {},
   "outputs": [],
   "source": [
    "# Do not run this\n",
    "train_resnet(\n",
    "    batch_size=256, epochs=100, \n",
    "    lr=0.01, use_weight=True,\n",
    "    n_years_val=8, n_years_test=10,\n",
    "    path_to_data=path_to_raw_data,\n",
    "    model_dir=dir_result\n",
    ")"
   ]
  }
 ],
 "metadata": {
  "kernelspec": {
   "display_name": "Python 3",
   "language": "python",
   "name": "python3"
  },
  "language_info": {
   "codemirror_mode": {
    "name": "ipython",
    "version": 3
   },
   "file_extension": ".py",
   "mimetype": "text/x-python",
   "name": "python",
   "nbconvert_exporter": "python",
   "pygments_lexer": "ipython3",
   "version": "3.7.9"
  }
 },
 "nbformat": 4,
 "nbformat_minor": 5
}
